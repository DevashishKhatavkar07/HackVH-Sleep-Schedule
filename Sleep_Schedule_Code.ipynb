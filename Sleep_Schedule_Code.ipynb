{
  "nbformat": 4,
  "nbformat_minor": 0,
  "metadata": {
    "colab": {
      "name": "VHHS Hackathon Sleep Schedule Code.ipynb",
      "provenance": [],
      "collapsed_sections": [],
      "include_colab_link": true
    },
    "kernelspec": {
      "name": "python3",
      "display_name": "Python 3"
    },
    "language_info": {
      "name": "python"
    }
  },
  "cells": [
    {
      "cell_type": "markdown",
      "metadata": {
        "id": "view-in-github",
        "colab_type": "text"
      },
      "source": [
        "<a href=\"https://colab.research.google.com/github/DevashishKhatavkar07/HackVH-Sleep-Schedule/blob/main/Sleep_Schedule_Code.ipynb\" target=\"_parent\"><img src=\"https://colab.research.google.com/assets/colab-badge.svg\" alt=\"Open In Colab\"/></a>"
      ]
    },
    {
      "cell_type": "code",
      "metadata": {
        "id": "Wa9YQ_7xhy0C",
        "colab": {
          "base_uri": "https://localhost:8080/",
          "height": 795
        },
        "outputId": "04cd207d-c16f-4f01-92cc-ddc70bfe4b67"
      },
      "source": [
        "#imports numpy and matplotlib\n",
        "import matplotlib.pyplot as plt\n",
        "import numpy as np\n",
        "\n",
        "class Sleeper():\n",
        "    #age is a integer variable, in years (round the age)\n",
        "    #startSleep and endSleep (12 hour clock) are a string variables and AM and PM specification is necessary. So, 11:30 PM would be \"11:30 PM\" --> Space is necessary between time and AM or PM, and there should be no other spaces. And time should have a colon\n",
        "    def __init__(self, age, startSleep=0, endSleep=0):\n",
        "        self.age = age\n",
        "        self.start = startSleep\n",
        "        self.end = endSleep\n",
        "\n",
        "    #returns age\n",
        "    def get_age(self):\n",
        "        return self.age\n",
        "\n",
        "    #sets age\n",
        "    def set_age(self, age):\n",
        "        self.age = age\n",
        "\n",
        "    #returns start time\n",
        "    def get_start(self):\n",
        "        return self.start\n",
        "\n",
        "    #sets start time\n",
        "    def set_start(self, startSleep):\n",
        "        self.start = startSleep\n",
        "\n",
        "    #returns end time\n",
        "    def get_end(self):\n",
        "        return self.end\n",
        "\n",
        "    #sets end time\n",
        "    def set_end(self, endSleep):\n",
        "        self.end = endSleep\n",
        "\n",
        "    #Based on CDC information\n",
        "    #This method returns average recommend hours of sleep based on age according to the CDC\n",
        "    def circadian_rhythm(self, age):\n",
        "        if age < 1:\n",
        "            return [13, 16]\n",
        "        elif age <= 2:\n",
        "            return [11, 14]\n",
        "        elif age <= 5:\n",
        "            return [10, 13]\n",
        "        elif age <= 12:\n",
        "            return [9, 12]\n",
        "        elif age < 18:\n",
        "            return [8, 10]\n",
        "        elif age <= 64:\n",
        "            return [7, 9]\n",
        "        else:\n",
        "            return [7, 8]\n",
        "\n",
        "    #Converts the given time parameter into usable 24 hour clock times and splits the AM and PM\n",
        "    def convert_time(self, time):\n",
        "        timeLst = time.split(\" \")  #11:30 PM->[\"11:30\", \"PM\"]\n",
        "        splitTime = timeLst[0].split(\":\")  #[\"11\", \"30\", \"PM\"]\n",
        "        if timeLst[1].upper() == \"PM\":\n",
        "            splitTime = int(splitTime[0] + splitTime[1])\n",
        "            splitTime += 1200\n",
        "        elif timeLst[1].upper() == \"AM\" and int(splitTime[0]) == 12:\n",
        "            splitTime = int(splitTime[1])\n",
        "        elif timeLst[1].upper() == \"AM\":\n",
        "            splitTime = splitTime[0] + splitTime[1]\n",
        "        return int(splitTime)\n",
        "\n",
        "    #Calculates hours of sleep. startTime and endTime parameters are based on the times given from the convert_time() method\n",
        "    def calc_hours(self, startTime, endTime):\n",
        "        changedStart = (startTime - (startTime % 100)) + round(((startTime % 100) / 60), 2)\n",
        "        changedEnd = (endTime - (endTime % 100)) + round(((endTime % 100) / 60), 2)\n",
        "        if endTime < startTime:\n",
        "            sleepHrs = (2400 - changedStart) + changedEnd\n",
        "        else:\n",
        "            sleepHrs = endTime - startTime\n",
        "        splitHours = [int(sleepHrs/100), sleepHrs - int(sleepHrs)]\n",
        "        return splitHours[0] + round(splitHours[1], 2)\n",
        "\n",
        "    #Calls the circadian_rhythm() method, convert_time() method, and calc_hours() method. Then, it converts the start and end times into 24 hour clock times as given by the convert_time() method. Then, the predicted hours of sleep that night will be calculated and compared to the recommended hours of sleep given by the circadian_rhythm() method. If sleep is enough, return perfect sleep If the person doesn't get enough sleep, recommend more sleep. If the person is getting too much sleep (3 hours or more than recommended), let them know.\n",
        "    def qualityOfSleep(self):\n",
        "        recommended = self.circadian_rhythm(self.age)\n",
        "        timeStart = self.convert_time(self.start)\n",
        "        timeEnd = self.convert_time(self.end)\n",
        "        hrsSlept = self.calc_hours(timeStart, timeEnd)\n",
        "        maxHours = recommended[1] + 2\n",
        "        minHours = recommended[0] - 1\n",
        "        if hrsSlept >= minHours and hrsSlept <= maxHours:\n",
        "            return \"Perfect amount of sleep! Keep it up!\"\n",
        "        elif hrsSlept > maxHours:\n",
        "            return \"You're getting more sleep than you need. Try to wake up earlier or go to sleep later. You now have more time to do what you want!\"\n",
        "        else:\n",
        "            return \"You're not getting enough sleep. Try to go to bed earlier and relax!\"\n",
        "\n",
        "\n",
        "#Creates a sleep bar graph based on CDC information for users to compare their sleep hours with. Makes use of numpy and matplotlib to create the graph\n",
        "def create_sleep_graph():\n",
        "    ranges = [\"0-1\", \"1-2\", \"3-5\", \"6-12\", \"13-18\", \"18-64\", \"65+\"]\n",
        "    y_pos = np.arange(len(ranges))\n",
        "    recommendedSleepHours = [15, 13, 12, 11, 9, 8, 8]\n",
        "    plt.bar(y_pos, recommendedSleepHours, align='center', alpha=0.5)\n",
        "    plt.ylim(0,16)\n",
        "    plt.xticks(y_pos, ranges)\n",
        "    plt.title(\"Age vs Sleep Hours\")\n",
        "    plt.xlabel(\"Age\")\n",
        "    plt.ylabel(\"Average Sleep Hours\")\n",
        "    plt.show()\n",
        "\n",
        "#Runs code and takes age, start time, and end time as inputs. Then, it prints reults and the graphs based on the Sleeper class and create_sleep_graph() method\n",
        "def main():\n",
        "    print(\"What is your age?\")\n",
        "    age = int(input())\n",
        "    print()\n",
        "    print(\"What time are you going to sleep?\")\n",
        "    start = input()\n",
        "    print()\n",
        "    print(\"What time are you going to wake up?\")\n",
        "    end = input()\n",
        "    print()\n",
        "    sleepPerson = Sleeper(age, start, end)\n",
        "    print(\"You will sleep at: \" + sleepPerson.get_start())\n",
        "    print()\n",
        "    print(\"You will wake up at: \" + sleepPerson.get_end())\n",
        "    print()\n",
        "    hrsSlept = sleepPerson.calc_hours(sleepPerson.convert_time(start), sleepPerson.convert_time(end))\n",
        "    hrsSlept = str(int(hrsSlept)) + \" hours \" + str(round((hrsSlept - int(hrsSlept))*60)) + \" minutes\"\n",
        "    print(\"You will sleep for approximately \" + hrsSlept)\n",
        "    print()\n",
        "    print(\"Results: \" + sleepPerson.qualityOfSleep())\n",
        "    print()\n",
        "    print(\"Average recommended hours according to CDC: \")\n",
        "    create_sleep_graph()\n",
        "    print(\"Compare your sleep hours with recommended hours\")\n",
        "\n",
        "\n",
        "if __name__ == '__main__':\n",
        "    main()"
      ],
      "execution_count": 82,
      "outputs": [
        {
          "output_type": "stream",
          "text": [
            "What is your age?\n",
            "17\n",
            "\n",
            "What time are you going to sleep?\n",
            "11:00 PM\n",
            "\n",
            "What time are you going to wake up?\n",
            "8:30 AM\n",
            "\n",
            "You will sleep at: 11:00 PM\n",
            "\n",
            "You will wake up at: 8:30 AM\n",
            "\n",
            "You will sleep for approximately 9 hours 30 minutes\n",
            "\n",
            "Results: Perfect amount of sleep! Keep it up!\n",
            "\n",
            "Average recommended hours according to CDC: \n"
          ],
          "name": "stdout"
        },
        {
          "output_type": "display_data",
          "data": {
            "image/png": "[encoded data removed]",
            "text/plain": [
              "<Figure size 640x480 with 1 Axes>"
            ]
          },
          "metadata": {
            "tags": []
          }
        },
        {
          "output_type": "stream",
          "text": [
            "Compare your sleep hours with recommended hours\n"
          ],
          "name": "stdout"
        }
      ]
    },
    {
      "cell_type": "code",
      "metadata": {
        "id": "DHYYNf5oDsRr"
      },
      "source": [
        ""
      ],
      "execution_count": null,
      "outputs": []
    }
  ]
}